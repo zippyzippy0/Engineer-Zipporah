{
 "cells": [
  {
   "cell_type": "code",
   "execution_count": 2,
   "id": "b565b152-6c9e-4a18-be1e-3a5eb13be7aa",
   "metadata": {},
   "outputs": [
    {
     "name": "stdin",
     "output_type": "stream",
     "text": [
      "Enter number of Fibonacci numbers to print: 12\n"
     ]
    },
    {
     "name": "stdout",
     "output_type": "stream",
     "text": [
      "First 12 fibonacci numbers:[0, 1, 1, 2, 3, 5, 8, 13, 21, 34, 55, 89]\n"
     ]
    }
   ],
   "source": [
    "#question 2\n",
    "\n",
    "def fibonacci(n):\n",
    "    fib_sequence = [0,1]\n",
    "    for i in range(2,n):\n",
    "        next_number = fib_sequence[i-1] + fib_sequence[i-2]\n",
    "        fib_sequence.append(next_number)\n",
    "    return fib_sequence[:n]    \n",
    "\n",
    "n=int(input(\"Enter number of Fibonacci numbers to print:\"))\n",
    "print(\"First \" + str(n) + \" fibonacci numbers:\" + str(fibonacci(n)))"
   ]
  },
  {
   "cell_type": "code",
   "execution_count": 25,
   "id": "3322a3bf-83d5-4231-b164-e7b288853be6",
   "metadata": {},
   "outputs": [
    {
     "name": "stdout",
     "output_type": "stream",
     "text": [
      "0 15 30 45 60 75 90 "
     ]
    }
   ],
   "source": [
    "# question 3\n",
    "\n",
    "def result(N):\n",
    "    for nummber in range(N):\n",
    "            if nummber % 3 == 0 and nummber % 5 == 0:\n",
    "                print(str(nummber) + \" \", end = \"\")\n",
    "                 \n",
    "            else:\n",
    "                pass\n",
    "if __name__ == \"__main__\":\n",
    "    N = 100\n",
    "    result(N)"
   ]
  },
  {
   "cell_type": "code",
   "execution_count": 30,
   "id": "91085989-b0fb-480f-8112-67df06d9e216",
   "metadata": {},
   "outputs": [
    {
     "name": "stdin",
     "output_type": "stream",
     "text": [
      "Enter temperature in degree Celsius:  45\n"
     ]
    },
    {
     "name": "stdout",
     "output_type": "stream",
     "text": [
      "45.0 degree Celsius is equal to 113.0 degrees Fahrenheit.\n"
     ]
    }
   ],
   "source": [
    "# question 1\n",
    "celsius = float(input(\"Enter temperature in degree Celsius: \"))\n",
    "\n",
    "fahrenheit = (celsius * (9/5)) + 32\n",
    "\n",
    "print(str(celsius) + \" degree Celsius is equal to \" + str(fahrenheit) + \" degrees Fahrenheit.\")"
   ]
  },
  {
   "cell_type": "code",
   "execution_count": null,
   "id": "ebf189b6-938b-4369-8e07-c4828b128695",
   "metadata": {},
   "outputs": [],
   "source": []
  }
 ],
 "metadata": {
  "kernelspec": {
   "display_name": "Python 3 (ipykernel)",
   "language": "python",
   "name": "python3"
  },
  "language_info": {
   "codemirror_mode": {
    "name": "ipython",
    "version": 3
   },
   "file_extension": ".py",
   "mimetype": "text/x-python",
   "name": "python",
   "nbconvert_exporter": "python",
   "pygments_lexer": "ipython3",
   "version": "3.12.4"
  }
 },
 "nbformat": 4,
 "nbformat_minor": 5
}
